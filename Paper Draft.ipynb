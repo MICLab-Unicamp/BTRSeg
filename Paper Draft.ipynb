{
 "cells": [
  {
   "cell_type": "markdown",
   "metadata": {},
   "source": [
    "# Introduction"
   ]
  },
  {
   "cell_type": "markdown",
   "metadata": {},
   "source": [
    "Introduction..."
   ]
  },
  {
   "cell_type": "markdown",
   "metadata": {},
   "source": [
    "## Executable Paper"
   ]
  },
  {
   "cell_type": "markdown",
   "metadata": {},
   "source": [
    "This is an executable paper. The code cells can be run to reproduce important steps of this research. The following cell will setup the enviroment. MLflow is used to manage experiment runs, logging to the cell output what command was executed. Details from each run can be visualized by runnning \"mlflow ui\" on the directory of this notebook and accessing http://localhost:5000 on your browser. "
   ]
  },
  {
   "cell_type": "code",
   "execution_count": 1,
   "metadata": {},
   "outputs": [],
   "source": [
    "import mlflow\n",
    "import imageio\n",
    "from matplotlib import pyplot as plt"
   ]
  },
  {
   "cell_type": "markdown",
   "metadata": {},
   "source": [
    "# Data\n"
   ]
  },
  {
   "cell_type": "markdown",
   "metadata": {},
   "source": [
    "BraTS 2020 data was pre processed with... \n",
    "\n",
    "The pre processing can be reproduced with the code in the cell bellow. "
   ]
  },
  {
   "cell_type": "code",
   "execution_count": 16,
   "metadata": {},
   "outputs": [
    {
     "name": "stderr",
     "output_type": "stream",
     "text": [
      "2020/05/23 18:19:30 INFO mlflow.projects: === Created directory /tmp/tmpzby1a51p for downloading remote URIs passed to arguments of type 'path' ===\n",
      "2020/05/23 18:19:30 INFO mlflow.projects: === Running command 'python3 src/brats_preprocess.py' in run with ID '8f2fdb6d11f742bc920a1f5a70061f89' === \n",
      "2020/05/23 18:26:53 INFO mlflow.projects: === Run (ID '8f2fdb6d11f742bc920a1f5a70061f89') succeeded ===\n"
     ]
    },
    {
     "data": {
      "text/plain": [
       "<mlflow.projects.submitted_run.LocalSubmittedRun at 0x7f41fa239f28>"
      ]
     },
     "execution_count": 16,
     "metadata": {},
     "output_type": "execute_result"
    }
   ],
   "source": [
    "parameters = {\"data_path\": \"/home/diedre/Dropbox/bigdata/brats/2020/train\"}\n",
    "run = mlflow.projects.run('.', entry_point=\"pre_process\", use_conda=False, \n",
    "                          parameters=parameters,\n",
    "                          experiment_name=\"pre_processing\")"
   ]
  },
  {
   "cell_type": "markdown",
   "metadata": {},
   "source": [
    "The following code cell generates a visualization of the pre-processed data."
   ]
  },
  {
   "cell_type": "code",
   "execution_count": 21,
   "metadata": {},
   "outputs": [
    {
     "name": "stderr",
     "output_type": "stream",
     "text": [
      "2020/05/25 20:36:55 INFO mlflow.projects: === Created directory /tmp/tmpcmax9qp4 for downloading remote URIs passed to arguments of type 'path' ===\n",
      "2020/05/25 20:36:55 INFO mlflow.projects: === Running command 'python3 src/visualize_npz.py --input /home/diedre/Dropbox/bigdata/brats/2020/train/BraTS20_Training_001/BraTS20_Training_001_preprocessed.npz --no_display' in run with ID 'e9b970b1a09f49de946fbe6aed2565ae' === \n",
      "2020/05/25 20:36:57 INFO mlflow.projects: === Run (ID 'e9b970b1a09f49de946fbe6aed2565ae') succeeded ===\n"
     ]
    },
    {
     "name": "stdout",
     "output_type": "stream",
     "text": [
      "------------------------------------------------------------------------------------------------------------------------\n"
     ]
    }
   ],
   "source": [
    "parameters = {\"input\": \"/home/diedre/Dropbox/bigdata/brats/2020/train/BraTS20_Training_001/BraTS20_Training_001_preprocessed.npz\"}\n",
    "run = mlflow.projects.run('.', entry_point=\"visualize\", use_conda=False, \n",
    "                          parameters=parameters,\n",
    "                          experiment_name=\"pre_processing\")   "
   ]
  },
  {
   "cell_type": "markdown",
   "metadata": {},
   "source": [
    "![title](figures/display.png)"
   ]
  },
  {
   "cell_type": "markdown",
   "metadata": {},
   "source": [
    "Figure 1: An axial slice showcasing the four modalities, in order: FLAIR, T1, T1 with Contrast and T2. Also displayed in the bottom row are the four segmentation targets: background, edema, non-enhancing tumor and enhancing tumor. "
   ]
  },
  {
   "cell_type": "markdown",
   "metadata": {},
   "source": [
    "# Methodology"
   ]
  },
  {
   "cell_type": "markdown",
   "metadata": {},
   "source": [
    "The method..."
   ]
  },
  {
   "cell_type": "markdown",
   "metadata": {},
   "source": [
    "# Experiments and Results"
   ]
  },
  {
   "cell_type": "markdown",
   "metadata": {},
   "source": [
    "Experiments....."
   ]
  },
  {
   "cell_type": "markdown",
   "metadata": {},
   "source": [
    "# Discussion\n"
   ]
  },
  {
   "cell_type": "markdown",
   "metadata": {},
   "source": [
    "Results shown that..."
   ]
  },
  {
   "cell_type": "markdown",
   "metadata": {},
   "source": [
    "# Conclusion"
   ]
  },
  {
   "cell_type": "markdown",
   "metadata": {},
   "source": [
    "We conclude that..."
   ]
  },
  {
   "cell_type": "markdown",
   "metadata": {},
   "source": [
    "# References"
   ]
  },
  {
   "cell_type": "markdown",
   "metadata": {},
   "source": [
    "How to do references on jupyter?"
   ]
  }
 ],
 "metadata": {
  "kernelspec": {
   "display_name": "Python 3",
   "language": "python",
   "name": "python3"
  },
  "language_info": {
   "codemirror_mode": {
    "name": "ipython",
    "version": 3
   },
   "file_extension": ".py",
   "mimetype": "text/x-python",
   "name": "python",
   "nbconvert_exporter": "python",
   "pygments_lexer": "ipython3",
   "version": "3.6.9"
  }
 },
 "nbformat": 4,
 "nbformat_minor": 2
}
